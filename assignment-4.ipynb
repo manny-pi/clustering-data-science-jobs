{
 "cells": [
  {
   "attachments": {},
   "cell_type": "markdown",
   "metadata": {},
   "source": [
    "# Assignment 4 - Clustering Data Science Jobs\n",
    "\n",
    "Write a 500-word Medium post on constructing and characterizing clusters in a given dataset. Using methods from module 4, you should \n",
    "\n",
    "1. construct a dataset of interest, \n",
    "2. select (and justify) a k value for the number clusters in your data, \n",
    "3. cluster your data using one of the methods we've discussed, and \n",
    "4. describe what you think these clusters represent.\n",
    "\n",
    "As in the previous assignment, you may use any distance/similarity metric you like, but note that your choice of metric impacts which clustering metric you use, and you can collect your own data or use a pre-existing dataset for this assignment. Feel free to apply dimensionality-reduction techniques from the past module as well!"
   ]
  },
  {
   "cell_type": "code",
   "execution_count": 43,
   "metadata": {},
   "outputs": [],
   "source": [
    "import pandas as pd \n",
    "import numpy as np\n",
    "from sklearn.cluster import KMeans \n",
    "from sklearn.model_selection import train_test_split as tts"
   ]
  },
  {
   "attachments": {},
   "cell_type": "markdown",
   "metadata": {},
   "source": [
    "# 1. Selecting a dataset"
   ]
  },
  {
   "cell_type": "code",
   "execution_count": 83,
   "metadata": {},
   "outputs": [
    {
     "name": "stdout",
     "output_type": "stream",
     "text": [
      "Rows x Columns: (3755, 11) \n",
      "\n",
      "Variables: Index(['work_year', 'experience_level', 'employment_type', 'job_title',\n",
      "       'salary', 'salary_currency', 'salary_in_usd', 'employee_residence',\n",
      "       'remote_ratio', 'company_location', 'company_size'],\n",
      "      dtype='object')\n"
     ]
    }
   ],
   "source": [
    "# Loading the data \n",
    "\n",
    "salaries_df = pd.read_csv(\"data/ds_salaries.csv\")\n",
    "print(f\"Rows x Columns: {salaries_df.shape}\", '\\n')\n",
    "print(f\"Variables: {salaries_df.columns}\")"
   ]
  },
  {
   "cell_type": "code",
   "execution_count": 86,
   "metadata": {},
   "outputs": [
    {
     "name": "stdout",
     "output_type": "stream",
     "text": [
      "Rows x Columns (w. Dummy Variables): (3755, 278) \n",
      "\n",
      "Index(['work_year', 'salary', 'salary_in_usd', 'remote_ratio',\n",
      "       'experience_level_EN', 'experience_level_EX', 'experience_level_MI',\n",
      "       'experience_level_SE', 'employment_type_CT', 'employment_type_FL',\n",
      "       ...\n",
      "       'company_location_SI', 'company_location_SK', 'company_location_TH',\n",
      "       'company_location_TR', 'company_location_UA', 'company_location_US',\n",
      "       'company_location_VN', 'company_size_L', 'company_size_M',\n",
      "       'company_size_S'],\n",
      "      dtype='object', length=278)\n"
     ]
    }
   ],
   "source": [
    "# Converting categorical variables into dummy variables\n",
    "\n",
    "salaries_df_with_dummies = pd.get_dummies(salaries_df) # select the features\n",
    "print(f\"Rows x Columns (w. Dummy Variables): {salaries_df_with_dummies.shape}\", '\\n')\n",
    "print(salaries_df_with_dummies.columns)"
   ]
  },
  {
   "cell_type": "code",
   "execution_count": 46,
   "metadata": {},
   "outputs": [
    {
     "data": {
      "text/plain": [
       "Index(['work_year', 'salary', 'salary_in_usd', 'remote_ratio',\n",
       "       'experience_level_en', 'experience_level_ex', 'experience_level_mi',\n",
       "       'experience_level_se', 'employment_type_ct', 'employment_type_fl',\n",
       "       ...\n",
       "       'company_location_si', 'company_location_sk', 'company_location_th',\n",
       "       'company_location_tr', 'company_location_ua', 'company_location_us',\n",
       "       'company_location_vn', 'company_size_l', 'company_size_m',\n",
       "       'company_size_s'],\n",
       "      dtype='object', length=278)"
      ]
     },
     "execution_count": 46,
     "metadata": {},
     "output_type": "execute_result"
    }
   ],
   "source": [
    "# Cleaning up the column names of the dataframe\n",
    "\n",
    "def encode(s): \n",
    "    \"\"\"s: A string to be encoded. \n",
    "    \n",
    "    Returns a formatted string, with all whitespace removed.\"\"\"\n",
    "    \n",
    "    s = s.strip()           # remove trailing whitespace\n",
    "    s = s.replace(' ', '_') # replace spaces with underscores \n",
    "    s = s.replace('-', '_') # replace hyphen with underscores\n",
    "\n",
    "    # replace braces\n",
    "    s = s.replace('(', '_')\n",
    "    s = s.replace(')', '_')\n",
    "\n",
    "    # replace colons\n",
    "    s = s.replace(':', '_')\n",
    "    s = s.replace(';', '_')\n",
    "\n",
    "    # make the text lowercase\n",
    "    s = s.lower()           \n",
    "    \n",
    "    try: \n",
    "        # throw exception if the first character is non-numeric, otherwise, \n",
    "        # set the first character as an underscore\n",
    "        c = int(s[0])\n",
    "        s = \"_\" + s\n",
    "    except ValueError:\n",
    "        pass\n",
    "\n",
    "    return s\n",
    "    \n",
    "salaries_df_with_dummies.columns = salaries_df_with_dummies.columns.map(encode)\n",
    "salaries_df_with_dummies.columns"
   ]
  },
  {
   "attachments": {},
   "cell_type": "markdown",
   "metadata": {},
   "source": [
    "# 2. Creating the model, and clustering the data"
   ]
  },
  {
   "attachments": {},
   "cell_type": "markdown",
   "metadata": {},
   "source": [
    "## Using elbow method to determine K"
   ]
  },
  {
   "cell_type": "code",
   "execution_count": 61,
   "metadata": {},
   "outputs": [],
   "source": [
    "from sklearn.cluster import KMeans\n",
    "from sklearn.decomposition import PCA\n",
    "import matplotlib.pyplot as plt"
   ]
  },
  {
   "attachments": {},
   "cell_type": "markdown",
   "metadata": {},
   "source": []
  },
  {
   "cell_type": "code",
   "execution_count": 90,
   "metadata": {},
   "outputs": [
    {
     "name": "stdout",
     "output_type": "stream",
     "text": [
      "After PCA: (3755, 5)\n"
     ]
    }
   ],
   "source": [
    "# Convert the dataframe to a numpy array\n",
    "X = salaries_df_with_dummies.to_numpy()\n",
    "\n",
    "# Use Principal Component Analysis to reduce the dimensionality of the dataset \n",
    "pca = PCA(n_components=5)\n",
    "X_pca = pca.fit_transform(X)\n",
    "print(f\"After PCA: {X_pca.shape}\")"
   ]
  },
  {
   "cell_type": "code",
   "execution_count": 92,
   "metadata": {},
   "outputs": [
    {
     "data": {
      "text/plain": [
       "Text(0.5, 0, 'Number of Clusters')"
      ]
     },
     "execution_count": 92,
     "metadata": {},
     "output_type": "execute_result"
    },
    {
     "data": {
      "image/png": "[encoded data removed]",
      "text/plain": [
       "<Figure size 864x576 with 1 Axes>"
      ]
     },
     "metadata": {
      "needs_background": "light"
     },
     "output_type": "display_data"
    }
   ],
   "source": [
    "# Use elbow method to determine the optimal number of clusters\n",
    "def calculate_WSS(points, kmax):\n",
    "  sse = []\n",
    "  for k in range(1, kmax+1):\n",
    "    kmeans = KMeans(n_clusters = k).fit(points)\n",
    "    centroids = kmeans.cluster_centers_\n",
    "    pred_clusters = kmeans.predict(points)\n",
    "    curr_sse = 0\n",
    "    \n",
    "    # calculate square of Euclidean distance of each point from its cluster center and add to current WSS\n",
    "    for i in range(len(points)):\n",
    "      curr_center = centroids[pred_clusters[i]]\n",
    "      curr_sse += (points[i, 0] - curr_center[0]) ** 2 + (points[i, 1] - curr_center[1]) ** 2\n",
    "      \n",
    "    sse.append(curr_sse)\n",
    "  return sse\n",
    "\n",
    "# Calculate the within-cluster sum of squares for different values of k\n",
    "kmax = 10\n",
    "sse = calculate_WSS(X_pca, kmax)\n",
    "\n",
    "# Plot the curve\n",
    "fig, ax = plt.subplots(figsize=(12, 8))\n",
    "ax.plot(range(1, 11), sse)\n",
    "ax.set_xlabel(\"Number of Clusters\")"
   ]
  },
  {
   "cell_type": "code",
   "execution_count": 94,
   "metadata": {},
   "outputs": [],
   "source": [
    "%matplotlib qt"
   ]
  },
  {
   "cell_type": "code",
   "execution_count": 95,
   "metadata": {},
   "outputs": [
    {
     "data": {
      "text/plain": [
       "<matplotlib.collections.PathCollection at 0x7f9a80ed7550>"
      ]
     },
     "execution_count": 95,
     "metadata": {},
     "output_type": "execute_result"
    }
   ],
   "source": [
    "# Run k-means analysis on the salaries_df_with_dummies data frame.\n",
    "kmeans = KMeans(n_clusters=5, random_state=42).fit(X_pca) \n",
    "fig, ax = plt.subplots(figsize=(12, 8))\n",
    "ax.scatter(X_pca[:, 0], X_pca[:, 1], c=kmeans.labels_)\n",
    "ax.set_title(\"Data Science Job Clusters using K-Means Algorithm (k=5)\") \n"
   ]
  },
  {
   "cell_type": "code",
   "execution_count": null,
   "metadata": {},
   "outputs": [],
   "source": [
    "for c in kmeans.cluster_centers_: \n",
    "    ax.plot(c, )"
   ]
  },
  {
   "cell_type": "code",
   "execution_count": 98,
   "metadata": {},
   "outputs": [
    {
     "data": {
      "text/plain": [
       "array([[-4.94498188e+04,  1.37135184e+03, -1.83897784e-01,\n",
       "        -8.33776458e-03, -3.27569138e-03],\n",
       "       [ 9.97614286e+06, -6.54142219e+04, -2.02159058e+01,\n",
       "         4.05404754e-01, -2.97584383e-01],\n",
       "       [ 3.02094472e+07, -2.97913184e+04, -1.05555915e+01,\n",
       "        -3.06100386e+00, -1.29331689e-01],\n",
       "       [ 5.23529577e+06, -6.45950982e+04, -1.98454534e+00,\n",
       "         4.37959606e-01, -5.74525630e-02],\n",
       "       [ 1.49883637e+06, -1.01786382e+05,  1.93813939e+01,\n",
       "         6.85766637e-01,  3.45707450e-01]])"
      ]
     },
     "execution_count": 98,
     "metadata": {},
     "output_type": "execute_result"
    }
   ],
   "source": [
    "kmeans.cluster_centers_"
   ]
  }
 ],
 "metadata": {
  "kernelspec": {
   "display_name": "Python 3",
   "language": "python",
   "name": "python3"
  },
  "language_info": {
   "codemirror_mode": {
    "name": "ipython",
    "version": 3
   },
   "file_extension": ".py",
   "mimetype": "text/x-python",
   "name": "python",
   "nbconvert_exporter": "python",
   "pygments_lexer": "ipython3",
   "version": "3.8.2"
  },
  "orig_nbformat": 4
 },
 "nbformat": 4,
 "nbformat_minor": 2
}
